{
 "cells": [
  {
   "cell_type": "code",
   "execution_count": null,
   "metadata": {
    "_cell_guid": "b1076dfc-b9ad-4769-8c92-a6c4dae69d19",
    "_uuid": "8f2839f25d086af736a60e9eeb907d3b93b6e0e5",
    "execution": {
     "iopub.execute_input": "2023-04-01T06:45:40.287352Z",
     "iopub.status.busy": "2023-04-01T06:45:40.286651Z",
     "iopub.status.idle": "2023-04-01T06:45:40.325284Z",
     "shell.execute_reply": "2023-04-01T06:45:40.324108Z",
     "shell.execute_reply.started": "2023-04-01T06:45:40.287308Z"
    }
   },
   "outputs": [],
   "source": [
    "# This Python 3 environment comes with many helpful analytics libraries installed\n",
    "# It is defined by the kaggle/python Docker image: https://github.com/kaggle/docker-python\n",
    "# For example, here's several helpful packages to load\n",
    "\n",
    "import numpy as np # linear algebra\n",
    "import pandas as pd # data processing, CSV file I/O (e.g. pd.read_csv)\n",
    "\n",
    "# Input data files are available in the read-only \"../input/\" directory\n",
    "# For example, running this (by clicking run or pressing Shift+Enter) will list all files under the input directory\n",
    "\n",
    "import os\n",
    "for dirname, _, filenames in os.walk('/kaggle/input'):\n",
    "    for filename in filenames:\n",
    "        print(os.path.join(dirname, filename))\n",
    "\n",
    "# You can write up to 20GB to the current directory (/kaggle/working/) that gets preserved as output when you create a version using \"Save & Run All\" \n",
    "# You can also write temporary files to /kaggle/temp/, but they won't be saved outside of the current session"
   ]
  },
  {
   "cell_type": "code",
   "execution_count": null,
   "metadata": {
    "execution": {
     "iopub.execute_input": "2023-04-01T06:45:40.374204Z",
     "iopub.status.busy": "2023-04-01T06:45:40.373030Z",
     "iopub.status.idle": "2023-04-01T06:45:40.382567Z",
     "shell.execute_reply": "2023-04-01T06:45:40.381235Z",
     "shell.execute_reply.started": "2023-04-01T06:45:40.374156Z"
    }
   },
   "outputs": [],
   "source": [
    "import pandas as pd\n",
    "import numpy as np\n",
    "import matplotlib as mpl\n",
    "import matplotlib.pyplot as plt\n",
    "mpl.style.use(['ggplot'])\n",
    "%matplotlib inline"
   ]
  },
  {
   "cell_type": "code",
   "execution_count": null,
   "metadata": {
    "execution": {
     "iopub.execute_input": "2023-04-01T06:50:32.254893Z",
     "iopub.status.busy": "2023-04-01T06:50:32.253733Z",
     "iopub.status.idle": "2023-04-01T06:50:32.285019Z",
     "shell.execute_reply": "2023-04-01T06:50:32.283671Z",
     "shell.execute_reply.started": "2023-04-01T06:50:32.254830Z"
    }
   },
   "outputs": [],
   "source": [
    "df=pd.read_csv(\"/kaggle/input/co2-emission-by-vehicles/CO2 Emissions_Canada.csv\")"
   ]
  },
  {
   "cell_type": "code",
   "execution_count": null,
   "metadata": {
    "execution": {
     "iopub.execute_input": "2023-04-01T06:50:33.517773Z",
     "iopub.status.busy": "2023-04-01T06:50:33.517109Z",
     "iopub.status.idle": "2023-04-01T06:50:33.538614Z",
     "shell.execute_reply": "2023-04-01T06:50:33.537023Z",
     "shell.execute_reply.started": "2023-04-01T06:50:33.517714Z"
    }
   },
   "outputs": [],
   "source": [
    "df.head()"
   ]
  },
  {
   "cell_type": "code",
   "execution_count": null,
   "metadata": {
    "execution": {
     "iopub.execute_input": "2023-04-01T06:51:25.971072Z",
     "iopub.status.busy": "2023-04-01T06:51:25.970618Z",
     "iopub.status.idle": "2023-04-01T06:51:25.979967Z",
     "shell.execute_reply": "2023-04-01T06:51:25.978604Z",
     "shell.execute_reply.started": "2023-04-01T06:51:25.971032Z"
    }
   },
   "outputs": [],
   "source": [
    "df.columns"
   ]
  },
  {
   "cell_type": "code",
   "execution_count": null,
   "metadata": {
    "execution": {
     "iopub.execute_input": "2023-04-01T06:51:31.772098Z",
     "iopub.status.busy": "2023-04-01T06:51:31.770507Z",
     "iopub.status.idle": "2023-04-01T06:51:31.780825Z",
     "shell.execute_reply": "2023-04-01T06:51:31.779352Z",
     "shell.execute_reply.started": "2023-04-01T06:51:31.772033Z"
    }
   },
   "outputs": [],
   "source": [
    "df.shape"
   ]
  },
  {
   "cell_type": "code",
   "execution_count": null,
   "metadata": {
    "execution": {
     "iopub.execute_input": "2023-04-01T06:51:38.751802Z",
     "iopub.status.busy": "2023-04-01T06:51:38.750248Z",
     "iopub.status.idle": "2023-04-01T06:51:38.782431Z",
     "shell.execute_reply": "2023-04-01T06:51:38.781126Z",
     "shell.execute_reply.started": "2023-04-01T06:51:38.751729Z"
    }
   },
   "outputs": [],
   "source": [
    "df.info()"
   ]
  },
  {
   "cell_type": "code",
   "execution_count": null,
   "metadata": {
    "execution": {
     "iopub.execute_input": "2023-04-01T06:51:51.016614Z",
     "iopub.status.busy": "2023-04-01T06:51:51.015685Z",
     "iopub.status.idle": "2023-04-01T06:51:51.031015Z",
     "shell.execute_reply": "2023-04-01T06:51:51.029821Z",
     "shell.execute_reply.started": "2023-04-01T06:51:51.016562Z"
    }
   },
   "outputs": [],
   "source": [
    "df.isna().sum()"
   ]
  },
  {
   "cell_type": "code",
   "execution_count": null,
   "metadata": {
    "execution": {
     "iopub.execute_input": "2023-04-01T06:51:59.358466Z",
     "iopub.status.busy": "2023-04-01T06:51:59.358007Z",
     "iopub.status.idle": "2023-04-01T06:51:59.381912Z",
     "shell.execute_reply": "2023-04-01T06:51:59.380331Z",
     "shell.execute_reply.started": "2023-04-01T06:51:59.358426Z"
    }
   },
   "outputs": [],
   "source": [
    "df.nunique()"
   ]
  },
  {
   "cell_type": "code",
   "execution_count": null,
   "metadata": {
    "execution": {
     "iopub.execute_input": "2023-04-01T06:52:49.724984Z",
     "iopub.status.busy": "2023-04-01T06:52:49.724491Z",
     "iopub.status.idle": "2023-04-01T06:52:49.740045Z",
     "shell.execute_reply": "2023-04-01T06:52:49.738386Z",
     "shell.execute_reply.started": "2023-04-01T06:52:49.724942Z"
    }
   },
   "outputs": [],
   "source": [
    "print(df.duplicated())"
   ]
  },
  {
   "cell_type": "code",
   "execution_count": null,
   "metadata": {
    "execution": {
     "iopub.execute_input": "2023-04-01T06:53:03.308761Z",
     "iopub.status.busy": "2023-04-01T06:53:03.308341Z",
     "iopub.status.idle": "2023-04-01T06:53:03.326672Z",
     "shell.execute_reply": "2023-04-01T06:53:03.324987Z",
     "shell.execute_reply.started": "2023-04-01T06:53:03.308717Z"
    }
   },
   "outputs": [],
   "source": [
    "df.duplicated().sum()"
   ]
  },
  {
   "cell_type": "code",
   "execution_count": null,
   "metadata": {
    "execution": {
     "iopub.execute_input": "2023-04-01T06:53:45.984470Z",
     "iopub.status.busy": "2023-04-01T06:53:45.983997Z",
     "iopub.status.idle": "2023-04-01T06:53:45.999177Z",
     "shell.execute_reply": "2023-04-01T06:53:45.997781Z",
     "shell.execute_reply.started": "2023-04-01T06:53:45.984420Z"
    }
   },
   "outputs": [],
   "source": [
    "df.drop_duplicates(inplace=True)"
   ]
  },
  {
   "cell_type": "code",
   "execution_count": null,
   "metadata": {
    "execution": {
     "iopub.execute_input": "2023-04-01T06:53:51.568048Z",
     "iopub.status.busy": "2023-04-01T06:53:51.567583Z",
     "iopub.status.idle": "2023-04-01T06:53:51.576106Z",
     "shell.execute_reply": "2023-04-01T06:53:51.574707Z",
     "shell.execute_reply.started": "2023-04-01T06:53:51.568007Z"
    }
   },
   "outputs": [],
   "source": [
    "df.shape"
   ]
  },
  {
   "cell_type": "code",
   "execution_count": null,
   "metadata": {
    "execution": {
     "iopub.execute_input": "2023-04-01T06:54:09.642478Z",
     "iopub.status.busy": "2023-04-01T06:54:09.642019Z",
     "iopub.status.idle": "2023-04-01T06:54:09.701145Z",
     "shell.execute_reply": "2023-04-01T06:54:09.699025Z",
     "shell.execute_reply.started": "2023-04-01T06:54:09.642438Z"
    }
   },
   "outputs": [],
   "source": [
    "df.describe()"
   ]
  },
  {
   "cell_type": "code",
   "execution_count": null,
   "metadata": {
    "execution": {
     "iopub.execute_input": "2023-04-01T07:13:06.388175Z",
     "iopub.status.busy": "2023-04-01T07:13:06.387740Z",
     "iopub.status.idle": "2023-04-01T07:13:06.402455Z",
     "shell.execute_reply": "2023-04-01T07:13:06.401145Z",
     "shell.execute_reply.started": "2023-04-01T07:13:06.388137Z"
    }
   },
   "outputs": [],
   "source": [
    "cdf = df[['Engine Size(L)','Cylinders','Fuel Consumption Comb (L/100 km)','CO2 Emissions(g/km)']]\n",
    "cdf.head()"
   ]
  },
  {
   "cell_type": "code",
   "execution_count": null,
   "metadata": {
    "execution": {
     "iopub.execute_input": "2023-04-01T07:14:57.803045Z",
     "iopub.status.busy": "2023-04-01T07:14:57.802201Z",
     "iopub.status.idle": "2023-04-01T07:14:57.810155Z",
     "shell.execute_reply": "2023-04-01T07:14:57.808710Z",
     "shell.execute_reply.started": "2023-04-01T07:14:57.803000Z"
    }
   },
   "outputs": [],
   "source": [
    "cdf.rename(columns={'Engine Size(L)':'ENGINESIZE', 'Cylinders':'CYLINDERS','Fuel Consumption Comb (L/100 km)':'FUEL_COM_COMB','CO2 Emissions(g/km)':'CO2_EMISSIONS'},inplace=True)"
   ]
  },
  {
   "cell_type": "code",
   "execution_count": null,
   "metadata": {
    "execution": {
     "iopub.execute_input": "2023-04-01T07:15:16.117330Z",
     "iopub.status.busy": "2023-04-01T07:15:16.116479Z",
     "iopub.status.idle": "2023-04-01T07:15:16.131743Z",
     "shell.execute_reply": "2023-04-01T07:15:16.130575Z",
     "shell.execute_reply.started": "2023-04-01T07:15:16.117273Z"
    }
   },
   "outputs": [],
   "source": [
    "cdf.corr()"
   ]
  },
  {
   "cell_type": "code",
   "execution_count": null,
   "metadata": {
    "execution": {
     "iopub.execute_input": "2023-04-01T07:15:31.356566Z",
     "iopub.status.busy": "2023-04-01T07:15:31.355397Z",
     "iopub.status.idle": "2023-04-01T07:15:31.986417Z",
     "shell.execute_reply": "2023-04-01T07:15:31.985028Z",
     "shell.execute_reply.started": "2023-04-01T07:15:31.356520Z"
    }
   },
   "outputs": [],
   "source": [
    "cdf.hist()"
   ]
  },
  {
   "cell_type": "code",
   "execution_count": null,
   "metadata": {
    "execution": {
     "iopub.execute_input": "2023-04-01T07:15:43.392596Z",
     "iopub.status.busy": "2023-04-01T07:15:43.391449Z",
     "iopub.status.idle": "2023-04-01T07:15:43.602667Z",
     "shell.execute_reply": "2023-04-01T07:15:43.601409Z",
     "shell.execute_reply.started": "2023-04-01T07:15:43.392551Z"
    }
   },
   "outputs": [],
   "source": [
    "plt.scatter(cdf.FUEL_COM_COMB, cdf.CO2_EMISSIONS ,color = 'blue')\n",
    "plt.xlabel('FUEL_COM_COMB')\n",
    "plt.ylabel('CO2_EMISSIONS')\n",
    "plt.show()"
   ]
  },
  {
   "cell_type": "code",
   "execution_count": null,
   "metadata": {
    "execution": {
     "iopub.execute_input": "2023-04-01T07:15:53.906680Z",
     "iopub.status.busy": "2023-04-01T07:15:53.905888Z",
     "iopub.status.idle": "2023-04-01T07:15:54.129942Z",
     "shell.execute_reply": "2023-04-01T07:15:54.128668Z",
     "shell.execute_reply.started": "2023-04-01T07:15:53.906638Z"
    }
   },
   "outputs": [],
   "source": [
    "plt.scatter(cdf.ENGINESIZE, cdf.CO2_EMISSIONS ,color = 'blue')\n",
    "plt.xlabel('ENGINESIZE')\n",
    "plt.ylabel('CO2_EMISSIONS')\n",
    "plt.show()"
   ]
  },
  {
   "cell_type": "code",
   "execution_count": null,
   "metadata": {
    "execution": {
     "iopub.execute_input": "2023-04-01T07:16:08.887355Z",
     "iopub.status.busy": "2023-04-01T07:16:08.886890Z",
     "iopub.status.idle": "2023-04-01T07:16:09.114616Z",
     "shell.execute_reply": "2023-04-01T07:16:09.113643Z",
     "shell.execute_reply.started": "2023-04-01T07:16:08.887313Z"
    }
   },
   "outputs": [],
   "source": [
    "plt.scatter(cdf.CYLINDERS, cdf.CO2_EMISSIONS ,color = 'blue')\n",
    "plt.xlabel('CYLINDERS')\n",
    "plt.ylabel('CO2_EMISSIONS')\n",
    "plt.show()"
   ]
  },
  {
   "cell_type": "code",
   "execution_count": null,
   "metadata": {
    "execution": {
     "iopub.execute_input": "2023-04-01T07:16:22.188029Z",
     "iopub.status.busy": "2023-04-01T07:16:22.186899Z",
     "iopub.status.idle": "2023-04-01T07:16:22.195586Z",
     "shell.execute_reply": "2023-04-01T07:16:22.193791Z",
     "shell.execute_reply.started": "2023-04-01T07:16:22.187984Z"
    }
   },
   "outputs": [],
   "source": [
    "msk = np.random.rand(len(df)) < 0.8\n",
    "train = cdf[msk]\n",
    "test = cdf[~msk]"
   ]
  },
  {
   "cell_type": "code",
   "execution_count": null,
   "metadata": {
    "execution": {
     "iopub.execute_input": "2023-04-01T07:16:39.776239Z",
     "iopub.status.busy": "2023-04-01T07:16:39.775805Z",
     "iopub.status.idle": "2023-04-01T07:16:39.951176Z",
     "shell.execute_reply": "2023-04-01T07:16:39.949874Z",
     "shell.execute_reply.started": "2023-04-01T07:16:39.776200Z"
    }
   },
   "outputs": [],
   "source": [
    "plt.scatter(train.ENGINESIZE, train.CO2_EMISSIONS, color='blue')\n",
    "plt.xlabel(\"Engine size\")\n",
    "plt.ylabel(\"Emission\")\n",
    "plt.show()"
   ]
  },
  {
   "cell_type": "code",
   "execution_count": null,
   "metadata": {
    "execution": {
     "iopub.execute_input": "2023-04-01T07:16:52.611888Z",
     "iopub.status.busy": "2023-04-01T07:16:52.611461Z",
     "iopub.status.idle": "2023-04-01T07:16:53.086863Z",
     "shell.execute_reply": "2023-04-01T07:16:53.085305Z",
     "shell.execute_reply.started": "2023-04-01T07:16:52.611849Z"
    }
   },
   "outputs": [],
   "source": [
    "from sklearn import linear_model\n",
    "reg = linear_model.LinearRegression()\n",
    "train_x = np.asanyarray(train[['ENGINESIZE']])\n",
    "train_y = np.asanyarray(train[['CO2_EMISSIONS']])\n",
    "reg.fit(train_x,train_y)\n",
    "print('Coefficients:', reg.coef_)\n",
    "print('Intercept:', reg.intercept_)"
   ]
  },
  {
   "cell_type": "code",
   "execution_count": null,
   "metadata": {
    "execution": {
     "iopub.execute_input": "2023-04-01T07:17:17.246409Z",
     "iopub.status.busy": "2023-04-01T07:17:17.245923Z",
     "iopub.status.idle": "2023-04-01T07:17:17.467921Z",
     "shell.execute_reply": "2023-04-01T07:17:17.466543Z",
     "shell.execute_reply.started": "2023-04-01T07:17:17.246367Z"
    }
   },
   "outputs": [],
   "source": [
    "plt.scatter(train.ENGINESIZE, train.CO2_EMISSIONS, color='blue')\n",
    "plt.plot(train_x, reg.coef_[0][0]*train_x + reg.intercept_[0], '-r')\n",
    "plt.xlabel(\"Engine size\")\n",
    "plt.ylabel(\"Emission\")"
   ]
  },
  {
   "cell_type": "code",
   "execution_count": null,
   "metadata": {
    "execution": {
     "iopub.execute_input": "2023-04-01T07:17:35.205913Z",
     "iopub.status.busy": "2023-04-01T07:17:35.205117Z",
     "iopub.status.idle": "2023-04-01T07:17:35.218101Z",
     "shell.execute_reply": "2023-04-01T07:17:35.216683Z",
     "shell.execute_reply.started": "2023-04-01T07:17:35.205864Z"
    }
   },
   "outputs": [],
   "source": [
    "from sklearn.metrics import r2_score\n",
    "test_x = np.asanyarray(test[['ENGINESIZE']])\n",
    "test_y = np.asanyarray(test[['CO2_EMISSIONS']])\n",
    "test_y_ = reg.predict(test_x)\n",
    "print(\"Mean absolute error: %.2f\" % np.mean(np.absolute(test_y_ - test_y)))\n",
    "print(\"Residual sum of squares (MSE): %.2f\" % np.mean((test_y_ - test_y) ** 2))\n",
    "print(\"R2-score: %.2f\" % r2_score(test_y , test_y_))"
   ]
  },
  {
   "cell_type": "code",
   "execution_count": null,
   "metadata": {
    "execution": {
     "iopub.execute_input": "2023-04-01T07:17:44.297541Z",
     "iopub.status.busy": "2023-04-01T07:17:44.297090Z",
     "iopub.status.idle": "2023-04-01T07:17:44.308583Z",
     "shell.execute_reply": "2023-04-01T07:17:44.307325Z",
     "shell.execute_reply.started": "2023-04-01T07:17:44.297500Z"
    }
   },
   "outputs": [],
   "source": [
    "train_x = np.asanyarray(train[['FUEL_COM_COMB']])\n",
    "train_y = np.asanyarray(train[['CO2_EMISSIONS']])\n",
    "reg.fit(train_x,train_y)\n",
    "print('Coefficients:', reg.coef_)\n",
    "print('Intercept:', reg.intercept_)"
   ]
  },
  {
   "cell_type": "code",
   "execution_count": null,
   "metadata": {
    "execution": {
     "iopub.execute_input": "2023-04-01T07:17:50.662659Z",
     "iopub.status.busy": "2023-04-01T07:17:50.661606Z",
     "iopub.status.idle": "2023-04-01T07:17:50.870072Z",
     "shell.execute_reply": "2023-04-01T07:17:50.868813Z",
     "shell.execute_reply.started": "2023-04-01T07:17:50.662609Z"
    }
   },
   "outputs": [],
   "source": [
    "plt.scatter(train.FUEL_COM_COMB, train.CO2_EMISSIONS, color='blue')\n",
    "plt.plot(train_x, reg.coef_[0][0]*train_x + reg.intercept_[0], '-r')\n",
    "plt.xlabel(\"FUEL_COM_COMB\")\n",
    "plt.ylabel(\"Emission\")"
   ]
  },
  {
   "cell_type": "code",
   "execution_count": null,
   "metadata": {
    "execution": {
     "iopub.execute_input": "2023-04-01T07:18:07.233446Z",
     "iopub.status.busy": "2023-04-01T07:18:07.232600Z",
     "iopub.status.idle": "2023-04-01T07:18:07.243750Z",
     "shell.execute_reply": "2023-04-01T07:18:07.242151Z",
     "shell.execute_reply.started": "2023-04-01T07:18:07.233397Z"
    }
   },
   "outputs": [],
   "source": [
    "from sklearn.metrics import r2_score\n",
    "test_x = np.asanyarray(test[['FUEL_COM_COMB']])\n",
    "test_y = np.asanyarray(test[['CO2_EMISSIONS']])\n",
    "test_y_ = reg.predict(test_x)\n",
    "print(\"Mean absolute error: %.2f\" % np.mean(np.absolute(test_y_ - test_y)))\n",
    "print(\"Residual sum of squares (MSE): %.2f\" % np.mean((test_y_ - test_y) ** 2))\n",
    "print(\"R2-score: %.2f\" % r2_score(test_y , test_y_))"
   ]
  },
  {
   "cell_type": "code",
   "execution_count": null,
   "metadata": {},
   "outputs": [],
   "source": []
  }
 ],
 "metadata": {
  "kernelspec": {
   "display_name": "Python 3 (ipykernel)",
   "language": "python",
   "name": "python3"
  },
  "language_info": {
   "codemirror_mode": {
    "name": "ipython",
    "version": 3
   },
   "file_extension": ".py",
   "mimetype": "text/x-python",
   "name": "python",
   "nbconvert_exporter": "python",
   "pygments_lexer": "ipython3",
   "version": "3.11.7"
  }
 },
 "nbformat": 4,
 "nbformat_minor": 4
}
