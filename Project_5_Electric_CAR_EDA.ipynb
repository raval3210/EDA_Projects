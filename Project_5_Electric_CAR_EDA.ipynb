{
 "cells": [
  {
   "cell_type": "code",
   "execution_count": null,
   "metadata": {
    "_cell_guid": "b1076dfc-b9ad-4769-8c92-a6c4dae69d19",
    "_uuid": "8f2839f25d086af736a60e9eeb907d3b93b6e0e5",
    "execution": {
     "iopub.execute_input": "2023-04-01T07:21:26.501384Z",
     "iopub.status.busy": "2023-04-01T07:21:26.500237Z",
     "iopub.status.idle": "2023-04-01T07:21:26.543676Z",
     "shell.execute_reply": "2023-04-01T07:21:26.542500Z",
     "shell.execute_reply.started": "2023-04-01T07:21:26.501338Z"
    }
   },
   "outputs": [],
   "source": [
    "# This Python 3 environment comes with many helpful analytics libraries installed\n",
    "# It is defined by the kaggle/python Docker image: https://github.com/kaggle/docker-python\n",
    "# For example, here's several helpful packages to load\n",
    "\n",
    "import numpy as np # linear algebra\n",
    "import pandas as pd # data processing, CSV file I/O (e.g. pd.read_csv)\n",
    "\n",
    "# Input data files are available in the read-only \"../input/\" directory\n",
    "# For example, running this (by clicking run or pressing Shift+Enter) will list all files under the input directory\n",
    "\n",
    "import os\n",
    "for dirname, _, filenames in os.walk('/kaggle/input'):\n",
    "    for filename in filenames:\n",
    "        print(os.path.join(dirname, filename))\n",
    "\n",
    "# You can write up to 20GB to the current directory (/kaggle/working/) that gets preserved as output when you create a version using \"Save & Run All\" \n",
    "# You can also write temporary files to /kaggle/temp/, but they won't be saved outside of the current session"
   ]
  },
  {
   "cell_type": "code",
   "execution_count": null,
   "metadata": {
    "execution": {
     "iopub.execute_input": "2023-04-01T07:21:26.546578Z",
     "iopub.status.busy": "2023-04-01T07:21:26.545689Z",
     "iopub.status.idle": "2023-04-01T07:21:28.427982Z",
     "shell.execute_reply": "2023-04-01T07:21:28.425128Z",
     "shell.execute_reply.started": "2023-04-01T07:21:26.546537Z"
    }
   },
   "outputs": [],
   "source": [
    "import pandas as pd\n",
    "import numpy as np\n",
    "# visualization libraries\n",
    "import matplotlib.pyplot as plt\n",
    "import seaborn as sns\n",
    "%matplotlib inline\n",
    "# for scientific and statistical computing\n",
    "import scipy as sp\n",
    "#To make working with geospatial data in python easier\n",
    "from shapely.geometry import Point\n",
    "import geopandas as gpd\n",
    "from geopandas import GeoDataFrame\n",
    "plt.style.use('ggplot')"
   ]
  },
  {
   "cell_type": "code",
   "execution_count": null,
   "metadata": {
    "execution": {
     "iopub.execute_input": "2023-04-01T07:23:24.090214Z",
     "iopub.status.busy": "2023-04-01T07:23:24.089742Z",
     "iopub.status.idle": "2023-04-01T07:23:24.906727Z",
     "shell.execute_reply": "2023-04-01T07:23:24.905318Z",
     "shell.execute_reply.started": "2023-04-01T07:23:24.090171Z"
    }
   },
   "outputs": [],
   "source": [
    "df=pd.read_csv(\"/kaggle/input/electric-vehicle-population-data/Electric_Vehicle_Population_Data.csv\")"
   ]
  },
  {
   "cell_type": "code",
   "execution_count": null,
   "metadata": {
    "execution": {
     "iopub.execute_input": "2023-04-01T07:24:13.102239Z",
     "iopub.status.busy": "2023-04-01T07:24:13.101411Z",
     "iopub.status.idle": "2023-04-01T07:24:13.107613Z",
     "shell.execute_reply": "2023-04-01T07:24:13.106279Z",
     "shell.execute_reply.started": "2023-04-01T07:24:13.102196Z"
    }
   },
   "outputs": [],
   "source": [
    "pd.set_option('display.max_columns', None)"
   ]
  },
  {
   "cell_type": "code",
   "execution_count": null,
   "metadata": {
    "execution": {
     "iopub.execute_input": "2023-04-01T07:24:34.993650Z",
     "iopub.status.busy": "2023-04-01T07:24:34.993184Z",
     "iopub.status.idle": "2023-04-01T07:24:35.030519Z",
     "shell.execute_reply": "2023-04-01T07:24:35.029141Z",
     "shell.execute_reply.started": "2023-04-01T07:24:34.993613Z"
    }
   },
   "outputs": [],
   "source": [
    "df.head()"
   ]
  },
  {
   "cell_type": "code",
   "execution_count": null,
   "metadata": {
    "execution": {
     "iopub.execute_input": "2023-04-01T07:25:21.082638Z",
     "iopub.status.busy": "2023-04-01T07:25:21.082199Z",
     "iopub.status.idle": "2023-04-01T07:25:21.092470Z",
     "shell.execute_reply": "2023-04-01T07:25:21.090956Z",
     "shell.execute_reply.started": "2023-04-01T07:25:21.082604Z"
    }
   },
   "outputs": [],
   "source": [
    "df.columns.unique()"
   ]
  },
  {
   "cell_type": "code",
   "execution_count": null,
   "metadata": {
    "execution": {
     "iopub.execute_input": "2023-04-01T07:25:45.185252Z",
     "iopub.status.busy": "2023-04-01T07:25:45.184559Z",
     "iopub.status.idle": "2023-04-01T07:25:45.194748Z",
     "shell.execute_reply": "2023-04-01T07:25:45.193459Z",
     "shell.execute_reply.started": "2023-04-01T07:25:45.185197Z"
    }
   },
   "outputs": [],
   "source": [
    "df.shape"
   ]
  },
  {
   "cell_type": "code",
   "execution_count": null,
   "metadata": {
    "execution": {
     "iopub.execute_input": "2023-04-01T07:26:26.314287Z",
     "iopub.status.busy": "2023-04-01T07:26:26.313870Z",
     "iopub.status.idle": "2023-04-01T07:26:26.395596Z",
     "shell.execute_reply": "2023-04-01T07:26:26.394212Z",
     "shell.execute_reply.started": "2023-04-01T07:26:26.314249Z"
    }
   },
   "outputs": [],
   "source": [
    "df.info()"
   ]
  },
  {
   "cell_type": "code",
   "execution_count": null,
   "metadata": {
    "execution": {
     "iopub.execute_input": "2023-04-01T07:27:35.343751Z",
     "iopub.status.busy": "2023-04-01T07:27:35.343343Z",
     "iopub.status.idle": "2023-04-01T07:27:35.410779Z",
     "shell.execute_reply": "2023-04-01T07:27:35.409541Z",
     "shell.execute_reply.started": "2023-04-01T07:27:35.343717Z"
    }
   },
   "outputs": [],
   "source": [
    "df.isnull().sum().sort_values(ascending = False)"
   ]
  },
  {
   "cell_type": "code",
   "execution_count": null,
   "metadata": {
    "execution": {
     "iopub.execute_input": "2023-04-01T07:26:56.911529Z",
     "iopub.status.busy": "2023-04-01T07:26:56.910455Z",
     "iopub.status.idle": "2023-04-01T07:26:57.081169Z",
     "shell.execute_reply": "2023-04-01T07:26:57.079731Z",
     "shell.execute_reply.started": "2023-04-01T07:26:56.911468Z"
    }
   },
   "outputs": [],
   "source": [
    "df.duplicated().sum()"
   ]
  },
  {
   "cell_type": "code",
   "execution_count": null,
   "metadata": {
    "execution": {
     "iopub.execute_input": "2023-04-01T07:27:15.224413Z",
     "iopub.status.busy": "2023-04-01T07:27:15.223930Z",
     "iopub.status.idle": "2023-04-01T07:27:15.300874Z",
     "shell.execute_reply": "2023-04-01T07:27:15.299605Z",
     "shell.execute_reply.started": "2023-04-01T07:27:15.224371Z"
    }
   },
   "outputs": [],
   "source": [
    "df.describe().style.background_gradient(cmap='Blues')"
   ]
  },
  {
   "cell_type": "code",
   "execution_count": null,
   "metadata": {
    "execution": {
     "iopub.execute_input": "2023-04-01T07:27:48.804996Z",
     "iopub.status.busy": "2023-04-01T07:27:48.804601Z",
     "iopub.status.idle": "2023-04-01T07:27:51.703617Z",
     "shell.execute_reply": "2023-04-01T07:27:51.702077Z",
     "shell.execute_reply.started": "2023-04-01T07:27:48.804964Z"
    }
   },
   "outputs": [],
   "source": [
    "plt.rcParams['figure.figsize'] = (15,6)\n",
    "sns.heatmap(df.isnull(),yticklabels = False, cbar = False , cmap = 'viridis')\n",
    "plt.title(\"Missing null values\")"
   ]
  },
  {
   "cell_type": "code",
   "execution_count": null,
   "metadata": {
    "execution": {
     "iopub.execute_input": "2023-04-01T07:29:49.230095Z",
     "iopub.status.busy": "2023-04-01T07:29:49.229649Z",
     "iopub.status.idle": "2023-04-01T07:29:49.296716Z",
     "shell.execute_reply": "2023-04-01T07:29:49.295698Z",
     "shell.execute_reply.started": "2023-04-01T07:29:49.230057Z"
    }
   },
   "outputs": [],
   "source": [
    "# #### Get a clearer picture of missing data with this nifty code snippet! See the percentage of null values in our dataset sorted in ascending order,\n",
    "# making it easy to identify which features have the most missing data.\n",
    "missing_percentage = (df.isnull().sum().sort_values(ascending = False)/len(df))*100\n",
    "missing_percentage"
   ]
  },
  {
   "cell_type": "code",
   "execution_count": null,
   "metadata": {
    "execution": {
     "iopub.execute_input": "2023-04-01T07:30:37.145586Z",
     "iopub.status.busy": "2023-04-01T07:30:37.145151Z",
     "iopub.status.idle": "2023-04-01T07:30:37.207079Z",
     "shell.execute_reply": "2023-04-01T07:30:37.205972Z",
     "shell.execute_reply.started": "2023-04-01T07:30:37.145545Z"
    }
   },
   "outputs": [],
   "source": [
    "df['Electric Utility'] = df['Electric Utility'].fillna('Utility Not Avalilable')\n",
    "df['Legislative District'] = df['Legislative District'].fillna('Unknown')\n",
    "df['Vehicle Location'] = df['Vehicle Location'].fillna('Unknown')\n",
    "df['Model'] = df['Model'].fillna('Unknown')\n",
    "df['2020 Census Tract'] = df['2020 Census Tract'].fillna('Unknown')\n",
    "df['City'] = df['City'].fillna('Unknown')\n",
    "# fill null values in the 'Postal Code' column with the mean salary\n",
    "mean_postcode = df['Postal Code'].mean()\n",
    "df['Postal Code'] = df['Postal Code'].fillna(mean_postcode)\n",
    "df['County'] = df['County'].fillna('Unknown')"
   ]
  },
  {
   "cell_type": "code",
   "execution_count": null,
   "metadata": {
    "execution": {
     "iopub.execute_input": "2023-04-01T07:31:14.433974Z",
     "iopub.status.busy": "2023-04-01T07:31:14.433538Z",
     "iopub.status.idle": "2023-04-01T07:31:14.506698Z",
     "shell.execute_reply": "2023-04-01T07:31:14.505133Z",
     "shell.execute_reply.started": "2023-04-01T07:31:14.433939Z"
    }
   },
   "outputs": [],
   "source": [
    "#### Get a clearer picture of missing data with this nifty code snippet! See the percentage of null values in our dataset sorted in ascending order,\n",
    "# making it easy to identify which features have the most missing data.\n",
    "missing_percentage1 = (df.isnull().sum().sort_values(ascending = False)/len(df))*100\n",
    "missing_percentage1"
   ]
  },
  {
   "cell_type": "code",
   "execution_count": null,
   "metadata": {
    "execution": {
     "iopub.execute_input": "2023-04-01T07:31:37.334467Z",
     "iopub.status.busy": "2023-04-01T07:31:37.334001Z",
     "iopub.status.idle": "2023-04-01T07:31:37.341508Z",
     "shell.execute_reply": "2023-04-01T07:31:37.340137Z",
     "shell.execute_reply.started": "2023-04-01T07:31:37.334428Z"
    }
   },
   "outputs": [],
   "source": [
    "# convert the 'Postal Code ' attribute from float to integer\n",
    "df['Postal Code'] = df['Postal Code'].astype(int)"
   ]
  },
  {
   "cell_type": "code",
   "execution_count": null,
   "metadata": {
    "execution": {
     "iopub.execute_input": "2023-04-01T07:31:49.297820Z",
     "iopub.status.busy": "2023-04-01T07:31:49.297461Z",
     "iopub.status.idle": "2023-04-01T07:31:49.372590Z",
     "shell.execute_reply": "2023-04-01T07:31:49.371137Z",
     "shell.execute_reply.started": "2023-04-01T07:31:49.297789Z"
    }
   },
   "outputs": [],
   "source": [
    "df.info()"
   ]
  },
  {
   "cell_type": "code",
   "execution_count": null,
   "metadata": {
    "execution": {
     "iopub.execute_input": "2023-04-01T07:32:44.003559Z",
     "iopub.status.busy": "2023-04-01T07:32:44.003189Z",
     "iopub.status.idle": "2023-04-01T07:32:44.018629Z",
     "shell.execute_reply": "2023-04-01T07:32:44.017352Z",
     "shell.execute_reply.started": "2023-04-01T07:32:44.003528Z"
    }
   },
   "outputs": [],
   "source": [
    "# rename columns\n",
    "df = df.rename(columns={'Postal Code': 'PostalCode', 'Model Year': 'ModelYear','Electric Vehicle Type': 'Electric_Vehicle_Type',\n",
    "'Clean Alternative Fuel Vehicle (CAFV) Eligibility':'CAFV_Eligibility','Electric Range':'Electric_Range', 'Base MSRP':'Base_MSRP', 'Legislative District':'Legislative_District',\n",
    "'DOL Vehicle ID': 'DOL_Vehicle_ID','Vehicle Location':'Vehicle_Location','Electric Utility':'Electric_Utility','2020 Census Tract':'2020_Census_Tract','VIN (1-10)':'VIN'})\n",
    "print(df.columns)"
   ]
  },
  {
   "cell_type": "code",
   "execution_count": null,
   "metadata": {
    "execution": {
     "iopub.execute_input": "2023-04-01T07:32:55.656623Z",
     "iopub.status.busy": "2023-04-01T07:32:55.656178Z",
     "iopub.status.idle": "2023-04-01T07:32:55.727254Z",
     "shell.execute_reply": "2023-04-01T07:32:55.725593Z",
     "shell.execute_reply.started": "2023-04-01T07:32:55.656584Z"
    }
   },
   "outputs": [],
   "source": [
    "##have a view of refreshed dataset again\n",
    "df.isnull().sum().sort_values(ascending = False)"
   ]
  },
  {
   "cell_type": "code",
   "execution_count": null,
   "metadata": {
    "execution": {
     "iopub.execute_input": "2023-04-01T07:33:10.116329Z",
     "iopub.status.busy": "2023-04-01T07:33:10.115815Z",
     "iopub.status.idle": "2023-04-01T07:33:10.278607Z",
     "shell.execute_reply": "2023-04-01T07:33:10.277406Z",
     "shell.execute_reply.started": "2023-04-01T07:33:10.116288Z"
    }
   },
   "outputs": [],
   "source": [
    "df.duplicated().any()"
   ]
  },
  {
   "cell_type": "code",
   "execution_count": null,
   "metadata": {
    "execution": {
     "iopub.execute_input": "2023-04-01T07:33:17.449443Z",
     "iopub.status.busy": "2023-04-01T07:33:17.448982Z",
     "iopub.status.idle": "2023-04-01T07:33:17.457398Z",
     "shell.execute_reply": "2023-04-01T07:33:17.456100Z",
     "shell.execute_reply.started": "2023-04-01T07:33:17.449407Z"
    }
   },
   "outputs": [],
   "source": [
    "df.columns.unique()"
   ]
  },
  {
   "cell_type": "code",
   "execution_count": null,
   "metadata": {
    "execution": {
     "iopub.execute_input": "2023-04-01T07:33:37.498370Z",
     "iopub.status.busy": "2023-04-01T07:33:37.497905Z",
     "iopub.status.idle": "2023-04-01T07:33:37.654480Z",
     "shell.execute_reply": "2023-04-01T07:33:37.652900Z",
     "shell.execute_reply.started": "2023-04-01T07:33:37.498330Z"
    }
   },
   "outputs": [],
   "source": [
    "any_duplicates = df.duplicated(subset=['VIN', 'County', 'City', 'State','PostalCode', 'ModelYear', 'Make',\n",
    "'Model', 'Electric_Vehicle_Type', 'CAFV_Eligibility', 'Electric_Range',\n",
    "'Base_MSRP', 'Legislative_District', 'DOL_Vehicle_ID',\n",
    "'Vehicle_Location', 'Electric_Utility', '2020_Census_Tract']).any()"
   ]
  },
  {
   "cell_type": "code",
   "execution_count": null,
   "metadata": {
    "execution": {
     "iopub.execute_input": "2023-04-01T07:33:46.250542Z",
     "iopub.status.busy": "2023-04-01T07:33:46.250102Z",
     "iopub.status.idle": "2023-04-01T07:33:46.257426Z",
     "shell.execute_reply": "2023-04-01T07:33:46.256528Z",
     "shell.execute_reply.started": "2023-04-01T07:33:46.250503Z"
    }
   },
   "outputs": [],
   "source": [
    "any_duplicates"
   ]
  },
  {
   "cell_type": "code",
   "execution_count": null,
   "metadata": {
    "execution": {
     "iopub.execute_input": "2023-04-01T07:34:21.644621Z",
     "iopub.status.busy": "2023-04-01T07:34:21.644237Z",
     "iopub.status.idle": "2023-04-01T07:34:21.704844Z",
     "shell.execute_reply": "2023-04-01T07:34:21.703642Z",
     "shell.execute_reply.started": "2023-04-01T07:34:21.644588Z"
    }
   },
   "outputs": [],
   "source": [
    "df.describe().style.background_gradient(cmap='Blues')"
   ]
  },
  {
   "cell_type": "code",
   "execution_count": null,
   "metadata": {
    "execution": {
     "iopub.execute_input": "2023-04-01T07:34:37.710266Z",
     "iopub.status.busy": "2023-04-01T07:34:37.709829Z",
     "iopub.status.idle": "2023-04-01T07:34:38.261011Z",
     "shell.execute_reply": "2023-04-01T07:34:38.259572Z",
     "shell.execute_reply.started": "2023-04-01T07:34:37.710229Z"
    }
   },
   "outputs": [],
   "source": [
    "#checking the corrlation of all the attributes with target\n",
    "plt.figure(figsize=(15, 6))\n",
    "cmap = \"cividis\"\n",
    "heatmap=sns.heatmap(df.corr(),cmap=cmap, annot=True)\n",
    "heatmap.set_title('Electric Vehicle Correlation Heatmap', fontdict={'fontsize':12}, pad=12)"
   ]
  },
  {
   "cell_type": "code",
   "execution_count": null,
   "metadata": {
    "execution": {
     "iopub.execute_input": "2023-04-01T07:35:03.642070Z",
     "iopub.status.busy": "2023-04-01T07:35:03.641020Z",
     "iopub.status.idle": "2023-04-01T07:35:03.948058Z",
     "shell.execute_reply": "2023-04-01T07:35:03.945924Z",
     "shell.execute_reply.started": "2023-04-01T07:35:03.641998Z"
    }
   },
   "outputs": [],
   "source": [
    "# Create a histogram of the PostalCode variable\n",
    "plt.hist(df[\"ModelYear\"],bins=10,edgecolor='blue')\n",
    "plt.xlabel(\"ModelYear\")\n",
    "plt.ylabel(\"Count\")"
   ]
  },
  {
   "cell_type": "code",
   "execution_count": null,
   "metadata": {
    "execution": {
     "iopub.execute_input": "2023-04-01T07:35:14.029440Z",
     "iopub.status.busy": "2023-04-01T07:35:14.028952Z",
     "iopub.status.idle": "2023-04-01T07:35:14.327694Z",
     "shell.execute_reply": "2023-04-01T07:35:14.326753Z",
     "shell.execute_reply.started": "2023-04-01T07:35:14.029401Z"
    }
   },
   "outputs": [],
   "source": [
    "plt.hist(df[\"Electric_Range\"],bins=10,edgecolor='blue')\n",
    "plt.xlabel(\"Electric_Range\")\n",
    "plt.ylabel(\"Count\")"
   ]
  },
  {
   "cell_type": "code",
   "execution_count": null,
   "metadata": {
    "execution": {
     "iopub.execute_input": "2023-04-01T07:35:23.303878Z",
     "iopub.status.busy": "2023-04-01T07:35:23.303419Z",
     "iopub.status.idle": "2023-04-01T07:35:23.543951Z",
     "shell.execute_reply": "2023-04-01T07:35:23.542663Z",
     "shell.execute_reply.started": "2023-04-01T07:35:23.303838Z"
    }
   },
   "outputs": [],
   "source": [
    "plt.hist(df[\"Base_MSRP\"],bins=20,edgecolor='blue')\n",
    "plt.xlabel(\"Base_MSRP\")\n",
    "plt.ylabel(\"Count\")"
   ]
  },
  {
   "cell_type": "code",
   "execution_count": null,
   "metadata": {
    "execution": {
     "iopub.execute_input": "2023-04-01T07:35:32.168414Z",
     "iopub.status.busy": "2023-04-01T07:35:32.167946Z",
     "iopub.status.idle": "2023-04-01T07:35:32.470879Z",
     "shell.execute_reply": "2023-04-01T07:35:32.469620Z",
     "shell.execute_reply.started": "2023-04-01T07:35:32.168375Z"
    }
   },
   "outputs": [],
   "source": [
    "plt.hist(df[\"DOL_Vehicle_ID\"],bins=20,edgecolor='blue')\n",
    "plt.xlabel(\"DOL_Vehicle_ID\")\n",
    "plt.ylabel(\"Count\")"
   ]
  },
  {
   "cell_type": "code",
   "execution_count": null,
   "metadata": {
    "execution": {
     "iopub.execute_input": "2023-04-01T07:35:42.720918Z",
     "iopub.status.busy": "2023-04-01T07:35:42.720476Z",
     "iopub.status.idle": "2023-04-01T07:35:42.730661Z",
     "shell.execute_reply": "2023-04-01T07:35:42.729435Z",
     "shell.execute_reply.started": "2023-04-01T07:35:42.720878Z"
    }
   },
   "outputs": [],
   "source": [
    "df['Base_MSRP'].unique()"
   ]
  },
  {
   "cell_type": "code",
   "execution_count": null,
   "metadata": {
    "execution": {
     "iopub.execute_input": "2023-04-01T07:35:50.510805Z",
     "iopub.status.busy": "2023-04-01T07:35:50.510397Z",
     "iopub.status.idle": "2023-04-01T07:35:50.599442Z",
     "shell.execute_reply": "2023-04-01T07:35:50.597992Z",
     "shell.execute_reply.started": "2023-04-01T07:35:50.510771Z"
    }
   },
   "outputs": [],
   "source": [
    "df.drop('Base_MSRP', axis=1, inplace=True)\n",
    "df.info()"
   ]
  },
  {
   "cell_type": "code",
   "execution_count": null,
   "metadata": {
    "collapsed": true,
    "execution": {
     "iopub.execute_input": "2023-04-01T07:36:06.091625Z",
     "iopub.status.busy": "2023-04-01T07:36:06.091209Z",
     "iopub.status.idle": "2023-04-01T07:36:06.116710Z",
     "shell.execute_reply": "2023-04-01T07:36:06.115429Z",
     "shell.execute_reply.started": "2023-04-01T07:36:06.091590Z"
    },
    "jupyter": {
     "outputs_hidden": true
    }
   },
   "outputs": [],
   "source": [
    "df['Electric_Utility'].unique()"
   ]
  },
  {
   "cell_type": "code",
   "execution_count": null,
   "metadata": {
    "execution": {
     "iopub.execute_input": "2023-04-01T07:37:08.597800Z",
     "iopub.status.busy": "2023-04-01T07:37:08.597358Z",
     "iopub.status.idle": "2023-04-01T07:37:08.637263Z",
     "shell.execute_reply": "2023-04-01T07:37:08.635981Z",
     "shell.execute_reply.started": "2023-04-01T07:37:08.597750Z"
    }
   },
   "outputs": [],
   "source": [
    "def categorize_electric_utility(value):\n",
    "    if value == \"Utility Not Avalilable\":\n",
    "        return \"Not Available\"\n",
    "    elif \"||\" in value:\n",
    "        return \"Multi type Utilities\"\n",
    "    elif \"|\" in value:\n",
    "        return \"Single Type Utilities\"\n",
    "    else:\n",
    "        return \"Only One Option\"\n",
    "\n",
    "df['Electric_Utility_Category'] = df['Electric_Utility'].apply(categorize_electric_utility)"
   ]
  },
  {
   "cell_type": "code",
   "execution_count": null,
   "metadata": {
    "execution": {
     "iopub.execute_input": "2023-04-01T07:37:25.208931Z",
     "iopub.status.busy": "2023-04-01T07:37:25.208474Z",
     "iopub.status.idle": "2023-04-01T07:37:25.226815Z",
     "shell.execute_reply": "2023-04-01T07:37:25.225350Z",
     "shell.execute_reply.started": "2023-04-01T07:37:25.208895Z"
    }
   },
   "outputs": [],
   "source": [
    "df['Electric_Utility_Category'].unique()"
   ]
  },
  {
   "cell_type": "code",
   "execution_count": null,
   "metadata": {
    "execution": {
     "iopub.execute_input": "2023-04-01T07:37:41.650826Z",
     "iopub.status.busy": "2023-04-01T07:37:41.649823Z",
     "iopub.status.idle": "2023-04-01T07:37:41.671736Z",
     "shell.execute_reply": "2023-04-01T07:37:41.670367Z",
     "shell.execute_reply.started": "2023-04-01T07:37:41.650776Z"
    }
   },
   "outputs": [],
   "source": [
    "df.head()"
   ]
  },
  {
   "cell_type": "code",
   "execution_count": null,
   "metadata": {
    "execution": {
     "iopub.execute_input": "2023-04-01T07:37:59.068389Z",
     "iopub.status.busy": "2023-04-01T07:37:59.067225Z",
     "iopub.status.idle": "2023-04-01T07:37:59.085127Z",
     "shell.execute_reply": "2023-04-01T07:37:59.084161Z",
     "shell.execute_reply.started": "2023-04-01T07:37:59.068344Z"
    }
   },
   "outputs": [],
   "source": [
    "df['Legislative_District'].unique()"
   ]
  },
  {
   "cell_type": "code",
   "execution_count": null,
   "metadata": {
    "execution": {
     "iopub.execute_input": "2023-04-01T07:38:07.128979Z",
     "iopub.status.busy": "2023-04-01T07:38:07.128537Z",
     "iopub.status.idle": "2023-04-01T07:38:07.215066Z",
     "shell.execute_reply": "2023-04-01T07:38:07.213872Z",
     "shell.execute_reply.started": "2023-04-01T07:38:07.128941Z"
    }
   },
   "outputs": [],
   "source": [
    "df.drop('Legislative_District', axis=1, inplace=True)\n",
    "df.info()"
   ]
  },
  {
   "cell_type": "markdown",
   "metadata": {},
   "source": [
    "**We are going to pose following questions against the dataset:**\n",
    " 1. What are the Top 10 count of cars per county?\n",
    " 2. What are the Top 10 count of cars per city?\n",
    " 3. What are the Top 10 count of cars per state?\n",
    " 4. What are the Top 10 count of cars per postal code?\n",
    " 5. What are the Top 10 Make distribution count per top 10 County?\n",
    " 6. What are the Top 10 Make distribution count per top 10 City?\n",
    " 7. What are the Top 10 Make distribution count per top 10 State?\n",
    " 8. What are the EVT Distribution count per state?\n",
    " 9. What are the Electric Utility Distribution in top 10 cities with highest number of cars?\n",
    " 10. What are the Top 5 vs Bottom 5 Comparison?\n",
    " 11. What are the Distances Travel by vehicle make per electric charge?\n",
    " 12. What are the Year Wise Cars sales growth?\n",
    " 13. Plotting the lat and lon"
   ]
  },
  {
   "cell_type": "markdown",
   "metadata": {},
   "source": [
    "**Question 1. What are the Top 10 count of cars per county?**"
   ]
  },
  {
   "cell_type": "code",
   "execution_count": null,
   "metadata": {
    "execution": {
     "iopub.execute_input": "2023-04-01T07:40:26.550934Z",
     "iopub.status.busy": "2023-04-01T07:40:26.550499Z",
     "iopub.status.idle": "2023-04-01T07:40:26.915320Z",
     "shell.execute_reply": "2023-04-01T07:40:26.914102Z",
     "shell.execute_reply.started": "2023-04-01T07:40:26.550900Z"
    }
   },
   "outputs": [],
   "source": [
    "car_counts = df['County'].value_counts().nlargest(10)\n",
    "# plot the counts\n",
    "car_counts.plot(kind='bar')\n",
    "plt.xlabel('County')\n",
    "plt.ylabel('Number of Cars')\n",
    "plt.title('Top 10 County of Cars per County')\n",
    "plt.show()\n",
    "car_counts_df = car_counts.to_frame()\n",
    "car_counts_df.style.background_gradient(cmap='Blues')"
   ]
  },
  {
   "cell_type": "markdown",
   "metadata": {},
   "source": [
    "**Question 2. What are the Top 10 count of cars per city?**"
   ]
  },
  {
   "cell_type": "code",
   "execution_count": null,
   "metadata": {
    "execution": {
     "iopub.execute_input": "2023-04-01T07:41:06.252125Z",
     "iopub.status.busy": "2023-04-01T07:41:06.251674Z",
     "iopub.status.idle": "2023-04-01T07:41:06.579797Z",
     "shell.execute_reply": "2023-04-01T07:41:06.578558Z",
     "shell.execute_reply.started": "2023-04-01T07:41:06.252067Z"
    }
   },
   "outputs": [],
   "source": [
    "car_counts_Cty = df['City'].value_counts().nlargest(10)\n",
    "# plot the counts\n",
    "car_counts_Cty.plot(kind='bar')\n",
    "plt.xlabel('City')\n",
    "plt.ylabel('Number of Cars')\n",
    "plt.title('Top 10 Count of Cars per City')\n",
    "plt.show()\n",
    "car_counts_cty_df = car_counts_Cty.to_frame()\n",
    "car_counts_cty_df.style.background_gradient(cmap='Blues')"
   ]
  },
  {
   "cell_type": "markdown",
   "metadata": {},
   "source": [
    "**Question 3. What are the Top 10 count of cars per state?**"
   ]
  },
  {
   "cell_type": "code",
   "execution_count": null,
   "metadata": {
    "execution": {
     "iopub.execute_input": "2023-04-01T07:41:29.159455Z",
     "iopub.status.busy": "2023-04-01T07:41:29.158128Z",
     "iopub.status.idle": "2023-04-01T07:41:29.889870Z",
     "shell.execute_reply": "2023-04-01T07:41:29.888774Z",
     "shell.execute_reply.started": "2023-04-01T07:41:29.159395Z"
    }
   },
   "outputs": [],
   "source": [
    "car_counts_St = df['State'].value_counts().nlargest(10)\n",
    "# plot the counts with a logarithmic y-axis\n",
    "plt.bar(car_counts_St.index, car_counts_St.values)\n",
    "plt.yscale('log')\n",
    "plt.xlabel('State')\n",
    "plt.ylabel('Number of Cars (log scale)')\n",
    "plt.title('Top 10 Count of Cars per State')\n",
    "plt.show()\n",
    "car_counts_St_df = car_counts_St.to_frame()\n",
    "car_counts_St_df.style.background_gradient(cmap='Blues')"
   ]
  },
  {
   "cell_type": "markdown",
   "metadata": {},
   "source": [
    "**Question 4. What are the Top 10 count of cars per postal code?**"
   ]
  },
  {
   "cell_type": "code",
   "execution_count": null,
   "metadata": {
    "execution": {
     "iopub.execute_input": "2023-04-01T07:41:59.938112Z",
     "iopub.status.busy": "2023-04-01T07:41:59.936946Z",
     "iopub.status.idle": "2023-04-01T07:42:00.227975Z",
     "shell.execute_reply": "2023-04-01T07:42:00.226737Z",
     "shell.execute_reply.started": "2023-04-01T07:41:59.938059Z"
    }
   },
   "outputs": [],
   "source": [
    "\n",
    "car_counts_pc = df['PostalCode'].value_counts().nlargest(10)\n",
    "# plot the counts with a logarithmic y-axis\n",
    "plt.bar(car_counts_pc.index, car_counts_pc.values)\n",
    "#plt.yscale('log')\n",
    "plt.xlabel('Postal Code')\n",
    "plt.ylabel('Number of Cars')\n",
    "plt.title('Top 10 Count of Cars per Postal Code')\n",
    "plt.show()\n",
    "car_counts_pc_df = car_counts_pc.to_frame()\n",
    "car_counts_pc_df.style.background_gradient(cmap='Blues')"
   ]
  },
  {
   "cell_type": "markdown",
   "metadata": {},
   "source": [
    "**Question 5. What are the Top 10 Make distribution count per top 10 County?**"
   ]
  },
  {
   "cell_type": "code",
   "execution_count": null,
   "metadata": {
    "execution": {
     "iopub.execute_input": "2023-04-01T07:43:06.270304Z",
     "iopub.status.busy": "2023-04-01T07:43:06.269879Z",
     "iopub.status.idle": "2023-04-01T07:43:06.866256Z",
     "shell.execute_reply": "2023-04-01T07:43:06.864679Z",
     "shell.execute_reply.started": "2023-04-01T07:43:06.270262Z"
    }
   },
   "outputs": [],
   "source": [
    "cnt_MkCounty = df.groupby(['County', 'Make']).size().reset_index(name='Count')\n",
    "# Group the data by county and make, and sum the counts for each group\n",
    "grouped_data = cnt_MkCounty.groupby(['County', 'Make'])['Count'].sum().reset_index()\n",
    "# Group the data by county and sum the counts for each county\n",
    "county_counts = grouped_data.groupby('County')['Count'].sum().reset_index()\n",
    "make_counts = grouped_data.groupby('Make')['Count'].sum().reset_index()\n",
    "# Sort the counties by count in descending order, and select the top 10\n",
    "top_counties = county_counts.sort_values(by='Count', ascending=False).head(10)\n",
    "top_makes = make_counts.sort_values(by='Count', ascending=False).head(10)\n",
    "# Filter the data to only include the top 10 counties\n",
    "filtered_data = grouped_data[grouped_data['County'].isin(top_counties['County']) & grouped_data['Make'].isin(top_makes['Make'])]\n",
    "# Pivot the data to create a matrix with counties as rows, makes as columns,and counts as values\n",
    "pivoted_data = filtered_data.pivot(index='County', columns='Make',values='Count').fillna(0)\n",
    "# Create a stacked bar plot of the pivoted data\n",
    "pivoted_data.plot(kind='bar', stacked=True)\n",
    "# Set the title and axis labels\n",
    "plt.title('Top 10 Make distribution count per top 10 County')\n",
    "plt.xlabel('County')\n",
    "plt.ylabel('Number of Cars')\n",
    "# Show the plot\n",
    "plt.show()\n",
    "pivoted_data.head()"
   ]
  },
  {
   "cell_type": "markdown",
   "metadata": {},
   "source": [
    "**Question 6 What are the Top 10 Make distribution count per top 10 City?**"
   ]
  },
  {
   "cell_type": "code",
   "execution_count": null,
   "metadata": {
    "execution": {
     "iopub.execute_input": "2023-04-01T07:44:51.723549Z",
     "iopub.status.busy": "2023-04-01T07:44:51.723109Z",
     "iopub.status.idle": "2023-04-01T07:44:52.324954Z",
     "shell.execute_reply": "2023-04-01T07:44:52.323238Z",
     "shell.execute_reply.started": "2023-04-01T07:44:51.723511Z"
    }
   },
   "outputs": [],
   "source": [
    "cnt_MkCity = df.groupby(['City', 'Make']).size().reset_index(name='Count')\n",
    "# Group the data by county and make, and sum the counts for each group\n",
    "grouped_data_cty = cnt_MkCity.groupby(['City', 'Make'])['Count'].sum().reset_index()\n",
    "# Group the data by county and sum the counts for each county\n",
    "city_counts = grouped_data_cty.groupby('City')['Count'].sum().reset_index()\n",
    "make_counts = grouped_data_cty.groupby('Make')['Count'].sum().reset_index()\n",
    "# Sort the counties by count in descending order, and select the top 10\n",
    "top_cities = city_counts.sort_values(by='Count', ascending=False).head(10)\n",
    "top_makes = make_counts.sort_values(by='Count', ascending=False).head(10)\n",
    "# Filter the data to only include the top 10 counties\n",
    "filtered_data_Cty = grouped_data_cty[grouped_data_cty['City'].isin(top_cities['City']) & grouped_data_cty['Make'].isin(top_makes['Make'])]\n",
    "# Pivot the data to create a matrix with counties as rows, makes as columns, and counts as values\n",
    "pivoted_data_cty = filtered_data_Cty.pivot(index='City', columns='Make',values='Count').fillna(0)\n",
    "# Create a stacked bar plot of the pivoted data\n",
    "pivoted_data_cty.plot(kind='bar', stacked=True)\n",
    "# Set the title and axis labels\n",
    "plt.title('Top 10 Make distribution count per top 10 City')\n",
    "plt.xlabel('City')\n",
    "plt.ylabel('Number of Cars')\n",
    "# Show the plot\n",
    "plt.show()\n",
    "pivoted_data_cty.head()"
   ]
  },
  {
   "cell_type": "markdown",
   "metadata": {},
   "source": [
    "****"
   ]
  },
  {
   "cell_type": "markdown",
   "metadata": {},
   "source": [
    "**Question 7 What are the Top 10 Make distribution count per top 10 State?**"
   ]
  },
  {
   "cell_type": "code",
   "execution_count": null,
   "metadata": {
    "execution": {
     "iopub.execute_input": "2023-04-01T07:45:57.248842Z",
     "iopub.status.busy": "2023-04-01T07:45:57.248271Z",
     "iopub.status.idle": "2023-04-01T07:45:58.808770Z",
     "shell.execute_reply": "2023-04-01T07:45:58.807387Z",
     "shell.execute_reply.started": "2023-04-01T07:45:57.248793Z"
    }
   },
   "outputs": [],
   "source": [
    "cnt_Mk_St = df.groupby(['State', 'Make']).size().reset_index(name='Count')\n",
    "# Group the data by county and make, and sum the counts for each group\n",
    "grouped_data_St = cnt_Mk_St.groupby(['State', 'Make'])['Count'].sum().reset_index()\n",
    "# Group the data by county and sum the counts for each county\n",
    "st_counts = grouped_data_St.groupby('State')['Count'].sum().reset_index()\n",
    "make_counts = grouped_data_St.groupby('Make')['Count'].sum().reset_index()\n",
    "# Sort the counties by count in descending order, and select the top 10\n",
    "top_States = st_counts.sort_values(by='Count', ascending=False).head(10)\n",
    "top_makes = make_counts.sort_values(by='Count', ascending=False).head(10)\n",
    "# Filter the data to only include the top 10 counties\n",
    "filtered_data_St = grouped_data_St[grouped_data_St['State'].isin(top_States['State']) & grouped_data_St['Make'].isin(top_makes['Make'])]\n",
    "# Pivot the data to create a matrix with counties as rows, makes as columns,and counts as values\n",
    "pivoted_data_St = filtered_data_St.pivot(index='State', columns='Make',values='Count').fillna(0)\n",
    "# Create a stacked bar plot of the pivoted data\n",
    "pivoted_data_St.plot(kind='bar', stacked=True)\n",
    "# Set the title and axis labels\n",
    "plt.title('Top 10 Make distribution count per top 10 State')\n",
    "plt.yscale('log')\n",
    "plt.xlabel('State')\n",
    "plt.ylabel('Number of Cars')\n",
    "# Show the plot\n",
    "plt.show()\n",
    "pivoted_data_St.head(10)"
   ]
  },
  {
   "cell_type": "markdown",
   "metadata": {},
   "source": [
    "**Question 8. What are the EVT Distribution count per state?**"
   ]
  },
  {
   "cell_type": "code",
   "execution_count": null,
   "metadata": {
    "execution": {
     "iopub.execute_input": "2023-04-01T07:46:34.346334Z",
     "iopub.status.busy": "2023-04-01T07:46:34.345909Z",
     "iopub.status.idle": "2023-04-01T07:46:35.036413Z",
     "shell.execute_reply": "2023-04-01T07:46:35.035030Z",
     "shell.execute_reply.started": "2023-04-01T07:46:34.346299Z"
    }
   },
   "outputs": [],
   "source": [
    "## EVT Distribution count per state\n",
    "evt_Dis_cnt = df.groupby(['State', 'Electric_Vehicle_Type']).size().reset_index(name='Count')\n",
    "evt_Dis_cnt.groupby(['State', 'Electric_Vehicle_Type'])['Count'].count().unstack().plot(kind='bar', stacked=True)\n",
    "# Move legend outside of plot\n",
    "plt.legend(bbox_to_anchor=(1.01, 1), loc='upper left')\n",
    "plt.show()\n",
    "evt_Dis_cnt.head(10).sort_values(by='Count', ascending=False)"
   ]
  },
  {
   "cell_type": "markdown",
   "metadata": {},
   "source": [
    "**Question 9. What are the Electric Utility Distribution in top 10 cities with highest number of cars?**"
   ]
  },
  {
   "cell_type": "code",
   "execution_count": null,
   "metadata": {
    "execution": {
     "iopub.execute_input": "2023-04-01T07:47:53.714531Z",
     "iopub.status.busy": "2023-04-01T07:47:53.713369Z",
     "iopub.status.idle": "2023-04-01T07:47:54.449595Z",
     "shell.execute_reply": "2023-04-01T07:47:54.448375Z",
     "shell.execute_reply.started": "2023-04-01T07:47:53.714484Z"
    }
   },
   "outputs": [],
   "source": [
    "cnt_Cty_EUD = df.groupby(['City', 'Electric_Utility_Category']).size().reset_index(name='Count')\n",
    "# Group the data by county and make, and sum the counts for each group\n",
    "grouped_data_Cty_EUD = cnt_Cty_EUD.groupby(['City','Electric_Utility_Category'])['Count'].sum().reset_index()\n",
    "# Group the data by county and sum the counts for each county\n",
    "Cty_EUD_counts = grouped_data_Cty_EUD.groupby('City')['Count'].sum().reset_index()\n",
    "# make_counts = grouped_data_St.groupby('Make')['Count'].sum().reset_index()\n",
    "# Sort the counties by count in descending order, and select the top 10\n",
    "top_Cty_EUD_counts = Cty_EUD_counts.sort_values(by='Count', ascending=False).head(30)\n",
    "# top_makes = make_counts.sort_values(by='Count', ascending=False).head(10)\n",
    "# Filter the data to only include the top 10 counties\n",
    "filtered_data_Cty_EUD = grouped_data_Cty_EUD[grouped_data_Cty_EUD['City'].isin(top_Cty_EUD_counts['City'])]\n",
    "# Pivot the data to create a matrix with counties as rows, makes as columns, and counts as values\n",
    "pivoted_data_Cty_EUD = filtered_data_Cty_EUD.pivot(index='City',columns='Electric_Utility_Category', values='Count').fillna(0)\n",
    "# Create a stacked bar plot of the pivoted data\n",
    "pivoted_data_Cty_EUD.plot(kind='bar', stacked=True)\n",
    "# Set the title and axis labels\n",
    "plt.title('Electric Utility Distribution in top 10 cities with highest number of cars')\n",
    "# plt.yscale('log')\n",
    "plt.xlabel('City')\n",
    "plt.ylabel('Number of EUC')\n",
    "# Show the plot\n",
    "plt.show()\n",
    "pivoted_data_Cty_EUD.head(10)"
   ]
  },
  {
   "cell_type": "markdown",
   "metadata": {},
   "source": [
    "**Question 10. What are the Top 5 vs Bottom 5 Comparison?**"
   ]
  },
  {
   "cell_type": "code",
   "execution_count": null,
   "metadata": {
    "execution": {
     "iopub.execute_input": "2023-04-01T07:48:23.747608Z",
     "iopub.status.busy": "2023-04-01T07:48:23.747030Z",
     "iopub.status.idle": "2023-04-01T07:48:24.213210Z",
     "shell.execute_reply": "2023-04-01T07:48:24.211946Z",
     "shell.execute_reply.started": "2023-04-01T07:48:23.747556Z"
    }
   },
   "outputs": [],
   "source": [
    "car_market_share = pd.DataFrame(df.groupby('Make')['VIN'].count().reset_index()).sort_values(by='VIN',ascending=False).reset_index(drop=True)\n",
    "car_market_share.columns = ['model','count']\n",
    "car_market_share_top_5 = car_market_share.head(5)\n",
    "car_market_share_bottom_5 = car_market_share.tail(5)\n",
    "fig, axes = plt.subplots(1, 2, figsize=(20, 5))\n",
    "sns.barplot(data=car_market_share_top_5, x=\"model\", y=\"count\",ax=axes[0])\n",
    "sns.barplot(data=car_market_share_bottom_5, x=\"model\", y=\"count\",ax=axes[1])\n",
    "axes[0].set_title('Top 5 Cars')\n",
    "axes[1].set_title('Bottom 5 Cars')"
   ]
  },
  {
   "cell_type": "markdown",
   "metadata": {},
   "source": [
    "**Question 11. What are the Distances Travel by vehicle make per electric charge?**"
   ]
  },
  {
   "cell_type": "code",
   "execution_count": null,
   "metadata": {
    "execution": {
     "iopub.execute_input": "2023-04-01T07:48:56.442561Z",
     "iopub.status.busy": "2023-04-01T07:48:56.442130Z",
     "iopub.status.idle": "2023-04-01T07:49:00.419004Z",
     "shell.execute_reply": "2023-04-01T07:49:00.417752Z",
     "shell.execute_reply.started": "2023-04-01T07:48:56.442522Z"
    }
   },
   "outputs": [],
   "source": [
    "import plotly.express as ps\n",
    "km_range = pd.DataFrame(df.groupby('Make')['Electric_Range'].mean().reset_index()).sort_values(by='Electric_Range',ascending=False).reset_index(drop=True).head(10)\n",
    "km_range.columns = ['model','km_range']\n",
    "ps.pie(data_frame=km_range, names='model', values='km_range',hover_name='km_range',title='Top 10 Model with KM range',hole=True)"
   ]
  },
  {
   "cell_type": "markdown",
   "metadata": {},
   "source": [
    "**Question 12. What are the Year Wise Cars sales growth?**"
   ]
  },
  {
   "cell_type": "code",
   "execution_count": null,
   "metadata": {
    "execution": {
     "iopub.execute_input": "2023-04-01T07:49:29.456207Z",
     "iopub.status.busy": "2023-04-01T07:49:29.455766Z",
     "iopub.status.idle": "2023-04-01T07:49:29.567285Z",
     "shell.execute_reply": "2023-04-01T07:49:29.566093Z",
     "shell.execute_reply.started": "2023-04-01T07:49:29.456171Z"
    }
   },
   "outputs": [],
   "source": [
    "# Year Wise Cars\n",
    "year_wise_cars = df.groupby('ModelYear')['VIN'].count().reset_index()\n",
    "year_wise_cars.columns = ['year','num_cars']\n",
    "fig = ps.line(year_wise_cars,x=\"year\", y=\"num_cars\", title='Year Wise Number of Cars',markers=True)\n",
    "fig.show()"
   ]
  },
  {
   "cell_type": "code",
   "execution_count": null,
   "metadata": {
    "execution": {
     "iopub.execute_input": "2023-04-01T07:49:37.789223Z",
     "iopub.status.busy": "2023-04-01T07:49:37.787827Z",
     "iopub.status.idle": "2023-04-01T07:49:37.802491Z",
     "shell.execute_reply": "2023-04-01T07:49:37.800999Z",
     "shell.execute_reply.started": "2023-04-01T07:49:37.789173Z"
    }
   },
   "outputs": [],
   "source": [
    "year_wise_cars.sort_values(by='num_cars', ascending=False).head(10)"
   ]
  },
  {
   "cell_type": "markdown",
   "metadata": {},
   "source": [
    "**Question 13. Plotting the lat and lon**"
   ]
  },
  {
   "cell_type": "code",
   "execution_count": null,
   "metadata": {
    "execution": {
     "iopub.execute_input": "2023-04-01T07:50:00.880095Z",
     "iopub.status.busy": "2023-04-01T07:50:00.879105Z",
     "iopub.status.idle": "2023-04-01T07:50:02.647520Z",
     "shell.execute_reply": "2023-04-01T07:50:02.645889Z",
     "shell.execute_reply.started": "2023-04-01T07:50:00.880030Z"
    }
   },
   "outputs": [],
   "source": [
    "df['lat'] = df['Vehicle_Location'].str.split(' ').str[1].str.split('(').str[1].astype(float)\n",
    "df['lon'] = df['Vehicle_Location'].str.split(' ').str[2].str.split(')').str[0].astype(float)\n",
    "df['lat'] = df['lat'].fillna(0)\n",
    "df['lon'] = df['lon'].fillna(0)"
   ]
  },
  {
   "cell_type": "code",
   "execution_count": null,
   "metadata": {
    "execution": {
     "iopub.execute_input": "2023-04-01T07:50:14.999086Z",
     "iopub.status.busy": "2023-04-01T07:50:14.998598Z",
     "iopub.status.idle": "2023-04-01T07:50:37.505615Z",
     "shell.execute_reply": "2023-04-01T07:50:37.504396Z",
     "shell.execute_reply.started": "2023-04-01T07:50:14.999027Z"
    }
   },
   "outputs": [],
   "source": [
    "geometry = [Point(xy) for xy in zip(df['lat'], df['lon'])]\n",
    "gdf = GeoDataFrame(df, geometry=geometry)\n",
    "#this is a simple map that goes with geopandas\n",
    "world = gpd.read_file(gpd.datasets.get_path('naturalearth_lowres'))\n",
    "gdf.plot(ax=world.plot(figsize=(10, 6)), marker='o', color='red',markersize=15);"
   ]
  },
  {
   "cell_type": "code",
   "execution_count": null,
   "metadata": {},
   "outputs": [],
   "source": []
  }
 ],
 "metadata": {
  "kernelspec": {
   "display_name": "Python 3",
   "language": "python",
   "name": "python3"
  },
  "language_info": {
   "codemirror_mode": {
    "name": "ipython",
    "version": 3
   },
   "file_extension": ".py",
   "mimetype": "text/x-python",
   "name": "python",
   "nbconvert_exporter": "python",
   "pygments_lexer": "ipython3",
   "version": "3.6.4"
  }
 },
 "nbformat": 4,
 "nbformat_minor": 4
}
