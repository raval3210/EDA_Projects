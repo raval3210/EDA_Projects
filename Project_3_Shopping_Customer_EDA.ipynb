{
 "cells": [
  {
   "cell_type": "markdown",
   "metadata": {},
   "source": [
    "**Reading the customers public dataset available and storing in dataframe named as Cust_data**"
   ]
  },
  {
   "cell_type": "code",
   "execution_count": null,
   "metadata": {
    "execution": {
     "iopub.execute_input": "2023-03-15T04:41:06.653402Z",
     "iopub.status.busy": "2023-03-15T04:41:06.653016Z",
     "iopub.status.idle": "2023-03-15T04:41:07.973658Z",
     "shell.execute_reply": "2023-03-15T04:41:07.972651Z",
     "shell.execute_reply.started": "2023-03-15T04:41:06.653366Z"
    }
   },
   "outputs": [],
   "source": [
    "import numpy as np \n",
    "import pandas as pd\n",
    "import matplotlib.pyplot as plt\n",
    "import seaborn as sns"
   ]
  },
  {
   "cell_type": "code",
   "execution_count": null,
   "metadata": {
    "execution": {
     "iopub.execute_input": "2023-03-15T04:42:12.599022Z",
     "iopub.status.busy": "2023-03-15T04:42:12.598599Z",
     "iopub.status.idle": "2023-03-15T04:42:12.625606Z",
     "shell.execute_reply": "2023-03-15T04:42:12.624177Z",
     "shell.execute_reply.started": "2023-03-15T04:42:12.598986Z"
    }
   },
   "outputs": [],
   "source": [
    "Cust_data=pd.read_csv(\"Customers.csv\")"
   ]
  },
  {
   "cell_type": "markdown",
   "metadata": {},
   "source": [
    "**Checking the data from dataset**"
   ]
  },
  {
   "cell_type": "code",
   "execution_count": null,
   "metadata": {
    "execution": {
     "iopub.execute_input": "2023-03-15T04:42:16.268217Z",
     "iopub.status.busy": "2023-03-15T04:42:16.267770Z",
     "iopub.status.idle": "2023-03-15T04:42:16.299287Z",
     "shell.execute_reply": "2023-03-15T04:42:16.297909Z",
     "shell.execute_reply.started": "2023-03-15T04:42:16.268174Z"
    }
   },
   "outputs": [],
   "source": [
    "#head() method is used to check first five observations  from the dataset\n",
    "Cust_data.head()"
   ]
  },
  {
   "cell_type": "code",
   "execution_count": null,
   "metadata": {
    "execution": {
     "iopub.execute_input": "2023-03-15T04:42:19.262537Z",
     "iopub.status.busy": "2023-03-15T04:42:19.261753Z",
     "iopub.status.idle": "2023-03-15T04:42:19.277233Z",
     "shell.execute_reply": "2023-03-15T04:42:19.275827Z",
     "shell.execute_reply.started": "2023-03-15T04:42:19.262478Z"
    }
   },
   "outputs": [],
   "source": [
    "#tail() method is used to check last five observations from the dataset\n",
    "Cust_data.tail()"
   ]
  },
  {
   "cell_type": "code",
   "execution_count": null,
   "metadata": {
    "execution": {
     "iopub.execute_input": "2023-03-15T06:37:10.517121Z",
     "iopub.status.busy": "2023-03-15T06:37:10.516738Z",
     "iopub.status.idle": "2023-03-15T06:37:10.524910Z",
     "shell.execute_reply": "2023-03-15T06:37:10.523431Z",
     "shell.execute_reply.started": "2023-03-15T06:37:10.517087Z"
    }
   },
   "outputs": [],
   "source": [
    "Cust_data.shape"
   ]
  },
  {
   "cell_type": "markdown",
   "metadata": {},
   "source": [
    "**Checking for duplicated Values**"
   ]
  },
  {
   "cell_type": "code",
   "execution_count": null,
   "metadata": {
    "execution": {
     "iopub.execute_input": "2023-03-15T06:39:36.781667Z",
     "iopub.status.busy": "2023-03-15T06:39:36.781169Z",
     "iopub.status.idle": "2023-03-15T06:39:36.793671Z",
     "shell.execute_reply": "2023-03-15T06:39:36.792094Z",
     "shell.execute_reply.started": "2023-03-15T06:39:36.781624Z"
    }
   },
   "outputs": [],
   "source": [
    "Cust_data.duplicated().sum()"
   ]
  },
  {
   "cell_type": "markdown",
   "metadata": {},
   "source": [
    "**Checking name of the columns if the names are relevant or not**"
   ]
  },
  {
   "cell_type": "code",
   "execution_count": null,
   "metadata": {
    "execution": {
     "iopub.execute_input": "2023-03-15T04:42:22.348265Z",
     "iopub.status.busy": "2023-03-15T04:42:22.347864Z",
     "iopub.status.idle": "2023-03-15T04:42:22.355758Z",
     "shell.execute_reply": "2023-03-15T04:42:22.354497Z",
     "shell.execute_reply.started": "2023-03-15T04:42:22.348229Z"
    }
   },
   "outputs": [],
   "source": [
    "Cust_data.columns"
   ]
  },
  {
   "cell_type": "markdown",
   "metadata": {},
   "source": [
    "**Checking info on dataset Data type of all the columns, null values are present or not size of dataset**"
   ]
  },
  {
   "cell_type": "code",
   "execution_count": null,
   "metadata": {
    "execution": {
     "iopub.execute_input": "2023-03-15T04:42:25.301078Z",
     "iopub.status.busy": "2023-03-15T04:42:25.299814Z",
     "iopub.status.idle": "2023-03-15T04:42:25.330793Z",
     "shell.execute_reply": "2023-03-15T04:42:25.328667Z",
     "shell.execute_reply.started": "2023-03-15T04:42:25.301012Z"
    }
   },
   "outputs": [],
   "source": [
    "Cust_data.info()"
   ]
  },
  {
   "cell_type": "code",
   "execution_count": null,
   "metadata": {
    "execution": {
     "iopub.execute_input": "2023-03-15T04:42:29.341537Z",
     "iopub.status.busy": "2023-03-15T04:42:29.340436Z",
     "iopub.status.idle": "2023-03-15T04:42:29.350847Z",
     "shell.execute_reply": "2023-03-15T04:42:29.349536Z",
     "shell.execute_reply.started": "2023-03-15T04:42:29.341460Z"
    }
   },
   "outputs": [],
   "source": [
    "Cust_data[\"Gender\"].nunique()"
   ]
  },
  {
   "cell_type": "markdown",
   "metadata": {},
   "source": [
    "* **As we can see that there is one gender column in dataset so we have maximum 3 categories**\n",
    "* **Let's convert Dtype of Gender from object to category so it will reduce memory and we have faster execution(In this dataset we are not dealing with big sized database)**"
   ]
  },
  {
   "cell_type": "code",
   "execution_count": null,
   "metadata": {
    "execution": {
     "iopub.execute_input": "2023-03-15T04:42:31.656908Z",
     "iopub.status.busy": "2023-03-15T04:42:31.656468Z",
     "iopub.status.idle": "2023-03-15T04:42:31.665520Z",
     "shell.execute_reply": "2023-03-15T04:42:31.663179Z",
     "shell.execute_reply.started": "2023-03-15T04:42:31.656864Z"
    }
   },
   "outputs": [],
   "source": [
    "Cust_data[\"Gender\"]=Cust_data[\"Gender\"].astype(\"category\")"
   ]
  },
  {
   "cell_type": "code",
   "execution_count": null,
   "metadata": {
    "execution": {
     "iopub.execute_input": "2023-03-15T04:42:34.103064Z",
     "iopub.status.busy": "2023-03-15T04:42:34.102035Z",
     "iopub.status.idle": "2023-03-15T04:42:34.123238Z",
     "shell.execute_reply": "2023-03-15T04:42:34.122048Z",
     "shell.execute_reply.started": "2023-03-15T04:42:34.103016Z"
    }
   },
   "outputs": [],
   "source": [
    "Cust_data.info()"
   ]
  },
  {
   "cell_type": "code",
   "execution_count": null,
   "metadata": {
    "execution": {
     "iopub.execute_input": "2023-03-15T04:44:02.696570Z",
     "iopub.status.busy": "2023-03-15T04:44:02.696180Z",
     "iopub.status.idle": "2023-03-15T04:44:02.708868Z",
     "shell.execute_reply": "2023-03-15T04:44:02.707487Z",
     "shell.execute_reply.started": "2023-03-15T04:44:02.696535Z"
    }
   },
   "outputs": [],
   "source": [
    "#Check Whether NULL values present in the data\n",
    "\n",
    "print(\"Total number of Null Values present in each Column:\")\n",
    "Cust_data.isnull().sum()"
   ]
  },
  {
   "cell_type": "markdown",
   "metadata": {},
   "source": [
    "**The Prefesson Column is classification data**"
   ]
  },
  {
   "cell_type": "code",
   "execution_count": null,
   "metadata": {
    "execution": {
     "iopub.execute_input": "2023-03-15T04:45:11.941631Z",
     "iopub.status.busy": "2023-03-15T04:45:11.941150Z",
     "iopub.status.idle": "2023-03-15T04:45:11.951087Z",
     "shell.execute_reply": "2023-03-15T04:45:11.949857Z",
     "shell.execute_reply.started": "2023-03-15T04:45:11.941572Z"
    }
   },
   "outputs": [],
   "source": [
    "Cust_data[\"Profession\"]"
   ]
  },
  {
   "cell_type": "code",
   "execution_count": null,
   "metadata": {
    "execution": {
     "iopub.execute_input": "2023-03-15T05:11:22.687111Z",
     "iopub.status.busy": "2023-03-15T05:11:22.686657Z",
     "iopub.status.idle": "2023-03-15T05:11:22.705518Z",
     "shell.execute_reply": "2023-03-15T05:11:22.704137Z",
     "shell.execute_reply.started": "2023-03-15T05:11:22.687070Z"
    }
   },
   "outputs": [],
   "source": [
    "# Drop the NULL value field in the dataset\n",
    "\n",
    "new_data = Cust_data.dropna()\n",
    "new_data.isnull().sum()"
   ]
  },
  {
   "cell_type": "code",
   "execution_count": null,
   "metadata": {
    "execution": {
     "iopub.execute_input": "2023-03-15T05:15:38.459475Z",
     "iopub.status.busy": "2023-03-15T05:15:38.459043Z",
     "iopub.status.idle": "2023-03-15T05:15:38.477037Z",
     "shell.execute_reply": "2023-03-15T05:15:38.475634Z",
     "shell.execute_reply.started": "2023-03-15T05:15:38.459433Z"
    }
   },
   "outputs": [],
   "source": [
    "new_data.head()"
   ]
  },
  {
   "cell_type": "code",
   "execution_count": null,
   "metadata": {
    "execution": {
     "iopub.execute_input": "2023-03-15T05:18:23.056217Z",
     "iopub.status.busy": "2023-03-15T05:18:23.055812Z",
     "iopub.status.idle": "2023-03-15T05:18:23.071193Z",
     "shell.execute_reply": "2023-03-15T05:18:23.069943Z",
     "shell.execute_reply.started": "2023-03-15T05:18:23.056182Z"
    }
   },
   "outputs": [],
   "source": [
    "new_data.tail()"
   ]
  },
  {
   "cell_type": "code",
   "execution_count": null,
   "metadata": {
    "execution": {
     "iopub.execute_input": "2023-03-15T05:22:50.377362Z",
     "iopub.status.busy": "2023-03-15T05:22:50.376611Z",
     "iopub.status.idle": "2023-03-15T05:22:50.385663Z",
     "shell.execute_reply": "2023-03-15T05:22:50.384373Z",
     "shell.execute_reply.started": "2023-03-15T05:22:50.377315Z"
    }
   },
   "outputs": [],
   "source": [
    "# Profession Counts\n",
    "new_data[\"Profession\"].value_counts()"
   ]
  },
  {
   "cell_type": "code",
   "execution_count": null,
   "metadata": {
    "execution": {
     "iopub.execute_input": "2023-03-15T05:20:30.643547Z",
     "iopub.status.busy": "2023-03-15T05:20:30.642690Z",
     "iopub.status.idle": "2023-03-15T05:20:30.658836Z",
     "shell.execute_reply": "2023-03-15T05:20:30.657389Z",
     "shell.execute_reply.started": "2023-03-15T05:20:30.643502Z"
    }
   },
   "outputs": [],
   "source": [
    "print(\"Highest Paying Profession: \")\n",
    "top_area = new_data.groupby('Profession').agg({\"Annual Income ($)\":\"max\"})\n",
    "print(top_area)"
   ]
  },
  {
   "cell_type": "code",
   "execution_count": null,
   "metadata": {
    "execution": {
     "iopub.execute_input": "2023-03-15T05:21:31.458820Z",
     "iopub.status.busy": "2023-03-15T05:21:31.458224Z",
     "iopub.status.idle": "2023-03-15T05:21:31.697937Z",
     "shell.execute_reply": "2023-03-15T05:21:31.696528Z",
     "shell.execute_reply.started": "2023-03-15T05:21:31.458761Z"
    }
   },
   "outputs": [],
   "source": [
    "#Number of MALE and FEMALE Workers\n",
    "sns.countplot(x=new_data[\"Gender\"])"
   ]
  },
  {
   "cell_type": "code",
   "execution_count": null,
   "metadata": {
    "execution": {
     "iopub.execute_input": "2023-03-15T05:22:13.480372Z",
     "iopub.status.busy": "2023-03-15T05:22:13.479931Z",
     "iopub.status.idle": "2023-03-15T05:22:14.448246Z",
     "shell.execute_reply": "2023-03-15T05:22:14.447152Z",
     "shell.execute_reply.started": "2023-03-15T05:22:13.480322Z"
    }
   },
   "outputs": [],
   "source": [
    "# Number of Male and Female Professions based on the field\n",
    "plt.figure(figsize=(20,15),dpi=200)\n",
    "sns.countplot(data = new_data,x=\"Profession\",hue=\"Gender\")"
   ]
  },
  {
   "cell_type": "code",
   "execution_count": null,
   "metadata": {
    "execution": {
     "iopub.execute_input": "2023-03-15T05:34:26.525499Z",
     "iopub.status.busy": "2023-03-15T05:34:26.525073Z",
     "iopub.status.idle": "2023-03-15T05:34:26.535252Z",
     "shell.execute_reply": "2023-03-15T05:34:26.533725Z",
     "shell.execute_reply.started": "2023-03-15T05:34:26.525462Z"
    }
   },
   "outputs": [],
   "source": [
    "# Age based Count\n",
    "new_data[\"Age\"].value_counts()"
   ]
  },
  {
   "cell_type": "code",
   "execution_count": null,
   "metadata": {
    "execution": {
     "iopub.execute_input": "2023-03-15T05:34:42.435729Z",
     "iopub.status.busy": "2023-03-15T05:34:42.435068Z",
     "iopub.status.idle": "2023-03-15T05:34:42.442962Z",
     "shell.execute_reply": "2023-03-15T05:34:42.441822Z",
     "shell.execute_reply.started": "2023-03-15T05:34:42.435690Z"
    }
   },
   "outputs": [],
   "source": [
    "print(\"Total Unique values in the age column : \",len(new_data[\"Age\"].unique()))"
   ]
  },
  {
   "cell_type": "code",
   "execution_count": null,
   "metadata": {
    "execution": {
     "iopub.execute_input": "2023-03-15T05:35:22.778752Z",
     "iopub.status.busy": "2023-03-15T05:35:22.778288Z",
     "iopub.status.idle": "2023-03-15T05:35:25.799540Z",
     "shell.execute_reply": "2023-03-15T05:35:25.798474Z",
     "shell.execute_reply.started": "2023-03-15T05:35:22.778709Z"
    }
   },
   "outputs": [],
   "source": [
    "### Count Plot based on the Age and Gender\n",
    "plt.figure(figsize=(25,15),dpi=200)\n",
    "sns.countplot(data = new_data,x=\"Age\",hue=\"Gender\")"
   ]
  },
  {
   "cell_type": "code",
   "execution_count": null,
   "metadata": {
    "execution": {
     "iopub.execute_input": "2023-03-15T06:06:18.678086Z",
     "iopub.status.busy": "2023-03-15T06:06:18.677690Z",
     "iopub.status.idle": "2023-03-15T06:06:18.686013Z",
     "shell.execute_reply": "2023-03-15T06:06:18.684655Z",
     "shell.execute_reply.started": "2023-03-15T06:06:18.678050Z"
    }
   },
   "outputs": [],
   "source": [
    "## Spending Score based on the Male and Female Count\n",
    "print(\"\\n\\n Unique values in the Spending Score column : \",len(new_data[\"Spending Score (1-100)\"].unique()))"
   ]
  },
  {
   "cell_type": "code",
   "execution_count": null,
   "metadata": {
    "execution": {
     "iopub.execute_input": "2023-03-15T06:06:35.719875Z",
     "iopub.status.busy": "2023-03-15T06:06:35.719455Z",
     "iopub.status.idle": "2023-03-15T06:06:38.541836Z",
     "shell.execute_reply": "2023-03-15T06:06:38.540655Z",
     "shell.execute_reply.started": "2023-03-15T06:06:35.719837Z"
    }
   },
   "outputs": [],
   "source": [
    "plt.figure(figsize=(30,15),dpi=200)\n",
    "sns.countplot(data = new_data,x=\"Spending Score (1-100)\",hue=\"Gender\")"
   ]
  },
  {
   "cell_type": "code",
   "execution_count": null,
   "metadata": {
    "execution": {
     "iopub.execute_input": "2023-03-15T06:07:22.970488Z",
     "iopub.status.busy": "2023-03-15T06:07:22.969266Z",
     "iopub.status.idle": "2023-03-15T06:07:22.976192Z",
     "shell.execute_reply": "2023-03-15T06:07:22.974815Z",
     "shell.execute_reply.started": "2023-03-15T06:07:22.970440Z"
    }
   },
   "outputs": [],
   "source": [
    "#Relationship between Working Experience and Annual Income\n",
    "print(\"\\n\\n Unique values in the Spending Score column : \",len(new_data[\"Work Experience\"].unique()))"
   ]
  },
  {
   "cell_type": "code",
   "execution_count": null,
   "metadata": {
    "execution": {
     "iopub.execute_input": "2023-03-15T06:08:20.929959Z",
     "iopub.status.busy": "2023-03-15T06:08:20.929479Z",
     "iopub.status.idle": "2023-03-15T06:08:20.942203Z",
     "shell.execute_reply": "2023-03-15T06:08:20.941212Z",
     "shell.execute_reply.started": "2023-03-15T06:08:20.929915Z"
    }
   },
   "outputs": [],
   "source": [
    "print(new_data.corr())\n",
    "  "
   ]
  },
  {
   "cell_type": "code",
   "execution_count": null,
   "metadata": {
    "execution": {
     "iopub.execute_input": "2023-03-15T06:09:12.226732Z",
     "iopub.status.busy": "2023-03-15T06:09:12.226287Z",
     "iopub.status.idle": "2023-03-15T06:09:12.609516Z",
     "shell.execute_reply": "2023-03-15T06:09:12.608302Z",
     "shell.execute_reply.started": "2023-03-15T06:09:12.226690Z"
    }
   },
   "outputs": [],
   "source": [
    "dataplot = sns.heatmap(new_data.corr(), cmap=\"YlGnBu\", annot=True)\n",
    "plt.show()"
   ]
  },
  {
   "cell_type": "code",
   "execution_count": null,
   "metadata": {
    "execution": {
     "iopub.execute_input": "2023-03-15T06:09:43.077522Z",
     "iopub.status.busy": "2023-03-15T06:09:43.077094Z",
     "iopub.status.idle": "2023-03-15T06:09:47.549626Z",
     "shell.execute_reply": "2023-03-15T06:09:47.548331Z",
     "shell.execute_reply.started": "2023-03-15T06:09:43.077484Z"
    }
   },
   "outputs": [],
   "source": [
    "# Another Visualization package in the python\n",
    "import plotly.express as px\n",
    "fig = px.bar(new_data, x='Age', y='Annual Income ($)',color=\"Gender\")\n",
    "fig.show()"
   ]
  },
  {
   "cell_type": "code",
   "execution_count": null,
   "metadata": {},
   "outputs": [],
   "source": []
  }
 ],
 "metadata": {
  "kernelspec": {
   "display_name": "Python 3 (ipykernel)",
   "language": "python",
   "name": "python3"
  },
  "language_info": {
   "codemirror_mode": {
    "name": "ipython",
    "version": 3
   },
   "file_extension": ".py",
   "mimetype": "text/x-python",
   "name": "python",
   "nbconvert_exporter": "python",
   "pygments_lexer": "ipython3",
   "version": "3.11.7"
  }
 },
 "nbformat": 4,
 "nbformat_minor": 4
}
